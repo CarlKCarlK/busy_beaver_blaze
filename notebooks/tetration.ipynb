{
 "cells": [
  {
   "cell_type": "code",
   "execution_count": null,
   "id": "a2bd325f",
   "metadata": {},
   "outputs": [
    {
     "name": "stdout",
     "output_type": "stream",
     "text": [
      "4++ = 5\n"
     ]
    }
   ],
   "source": [
    "from gmpy2 import xmpz\n",
    "\n",
    "def increment(acc_increment):\n",
    "    assert is_valid_accumulator(acc_increment), \"not a valid accumulator\"\n",
    "    acc_increment += 1\n",
    "\n",
    "def is_valid_accumulator(acc):\n",
    "    return isinstance(acc, xmpz) and acc >= 0    \n",
    "\n",
    "b = xmpz(4)\n",
    "print(f\"{b}++ = \", end=\"\")\n",
    "increment(b)\n",
    "print(b)\n",
    "assert b == 5"
   ]
  },
  {
   "cell_type": "code",
   "execution_count": null,
   "id": "1df0215e",
   "metadata": {},
   "outputs": [
    {
     "name": "stdout",
     "output_type": "stream",
     "text": [
      "2 + 4 = 6\n"
     ]
    }
   ],
   "source": [
    "def add(a, add_acc):\n",
    "    assert is_valid_accumulator(add_acc), \"not a valid accumulator\"\n",
    "    for _ in range(a):\n",
    "        add_acc += 1\n",
    "\n",
    "a = 2\n",
    "b = xmpz(4)\n",
    "print(f\"{a} + {b} = \", end=\"\")\n",
    "add(a, b)\n",
    "print(b)\n",
    "assert b == 6\n"
   ]
  },
  {
   "cell_type": "code",
   "execution_count": 38,
   "id": "02fa604a",
   "metadata": {},
   "outputs": [
    {
     "name": "stdout",
     "output_type": "stream",
     "text": [
      "Before: id(b) = 2082774735856\n",
      "After:  id(b) = 2082774735856\n"
     ]
    }
   ],
   "source": [
    "a = 2\n",
    "b = xmpz(4)\n",
    "print(f\"Before: id(b) = {id(b)}\")\n",
    "add(a, b)\n",
    "print(f\"After:  id(b) = {id(b)}\")  # ← compare object IDs"
   ]
  },
  {
   "cell_type": "code",
   "execution_count": null,
   "id": "6919b24b",
   "metadata": {},
   "outputs": [],
   "source": [
    "def count_down(acc):\n",
    "    assert is_valid_accumulator(acc), \"not a valid accumulator\"\n",
    "    while acc > 0:\n",
    "        acc -= 1\n",
    "        yield"
   ]
  },
  {
   "cell_type": "code",
   "execution_count": null,
   "id": "16876369",
   "metadata": {},
   "outputs": [
    {
     "name": "stdout",
     "output_type": "stream",
     "text": [
      "2 * 4 = 8\n"
     ]
    }
   ],
   "source": [
    "def multiply(a, multiply_acc):\n",
    "    assert is_valid_accumulator(multiply_acc), \"not a valid accumulator\"\n",
    "\n",
    "    add_acc = xmpz(0)\n",
    "    for _ in count_down(multiply_acc):\n",
    "        for _ in range(a):\n",
    "            add_acc += 1\n",
    "    return add_acc\n",
    "\n",
    "a = 2\n",
    "b = xmpz(4)\n",
    "print(f\"{a} * {b} = \", end=\"\")\n",
    "c = multiply(a, b)\n",
    "print(c)\n",
    "assert c == 8\n",
    "assert b == 0\n"
   ]
  },
  {
   "cell_type": "code",
   "execution_count": 47,
   "id": "fa49b54a",
   "metadata": {},
   "outputs": [
    {
     "name": "stdout",
     "output_type": "stream",
     "text": [
      "2^4 = 16\n"
     ]
    }
   ],
   "source": [
    "def exponentiate(a, exponentiate_acc):\n",
    "    assert is_valid_accumulator(exponentiate_acc), \"not a valid accumulator\"\n",
    "    assert a > 0 or exponentiate_acc != 0, \"0^0 is undefined\"\n",
    "\n",
    "    multiply_acc = xmpz(0)\n",
    "    multiply_acc += 1\n",
    "    for _ in count_down(exponentiate_acc):\n",
    "        add_acc = xmpz(0)\n",
    "        for _ in count_down(multiply_acc):\n",
    "            for _ in range(a):\n",
    "                add_acc += 1\n",
    "        multiply_acc = add_acc\n",
    "    return multiply_acc\n",
    "\n",
    "# Example usage\n",
    "a = 2\n",
    "b = xmpz(4)\n",
    "print(f\"{a}^{b} = \", end=\"\")\n",
    "c = exponentiate(a, b)\n",
    "print(c)\n",
    "assert c == 16\n",
    "assert b == 0"
   ]
  },
  {
   "cell_type": "code",
   "execution_count": 50,
   "id": "5157f905",
   "metadata": {},
   "outputs": [
    {
     "name": "stdout",
     "output_type": "stream",
     "text": [
      "2↑↑3 = 16\n"
     ]
    }
   ],
   "source": [
    "def tetrate(a, tetrate_acc):\n",
    "    assert is_valid_accumulator(tetrate_acc), \"not a valid accumulator\"\n",
    "    assert a > 0, \"we don't define 0↑↑b\"\n",
    "\n",
    "    exponentiate_acc = xmpz(0)\n",
    "    exponentiate_acc += 1\n",
    "    for _ in count_down(tetrate_acc):\n",
    "        multiply_acc = xmpz(0)\n",
    "        multiply_acc += 1\n",
    "        for _ in count_down(exponentiate_acc):\n",
    "            add_acc = xmpz(0)\n",
    "            for _ in count_down(multiply_acc):\n",
    "                for _ in range(a):\n",
    "                    add_acc += 1\n",
    "            multiply_acc = add_acc\n",
    "        exponentiate_acc = multiply_acc\n",
    "    return exponentiate_acc\n",
    "\n",
    "# Example usage\n",
    "a = 2\n",
    "b = xmpz(3)\n",
    "print(f\"{a}↑↑{b} = \", end=\"\")\n",
    "c = tetrate(a, b)\n",
    "print(c)\n",
    "assert c == 16  # 2^(2^2)\n",
    "assert b == 0   # Confirm tetrate_acc is consumed\n"
   ]
  },
  {
   "cell_type": "code",
   "execution_count": null,
   "id": "3b82f8cd",
   "metadata": {},
   "outputs": [],
   "source": [
    "a = 10\n",
    "b = xmpz(15)\n",
    "print(f\"{a}↑↑{b} = \", end=\"\")\n",
    "c = tetrate(a, b)\n",
    "print(c)"
   ]
  }
 ],
 "metadata": {
  "kernelspec": {
   "display_name": ".venv",
   "language": "python",
   "name": "python3"
  },
  "language_info": {
   "codemirror_mode": {
    "name": "ipython",
    "version": 3
   },
   "file_extension": ".py",
   "mimetype": "text/x-python",
   "name": "python",
   "nbconvert_exporter": "python",
   "pygments_lexer": "ipython3",
   "version": "3.13.0"
  }
 },
 "nbformat": 4,
 "nbformat_minor": 5
}
