{
 "cells": [
  {
   "cell_type": "code",
   "execution_count": 61,
   "id": "a5758896",
   "metadata": {},
   "outputs": [
    {
     "name": "stdout",
     "output_type": "stream",
     "text": [
      "Defaulting to user installation because normal site-packages is not writeable\n",
      "Requirement already satisfied: gmpy2 in c:\\users\\carlk\\appdata\\roaming\\python\\python312\\site-packages (2.2.1)\n"
     ]
    },
    {
     "name": "stderr",
     "output_type": "stream",
     "text": [
      "\n",
      "[notice] A new release of pip is available: 24.3.1 -> 25.0.1\n",
      "[notice] To update, run: C:\\Python312\\python.exe -m pip install --upgrade pip\n"
     ]
    }
   ],
   "source": [
    "!pip install gmpy2"
   ]
  },
  {
   "cell_type": "code",
   "execution_count": 62,
   "id": "a2bd325f",
   "metadata": {},
   "outputs": [
    {
     "name": "stdout",
     "output_type": "stream",
     "text": [
      "4++ = 5\n"
     ]
    }
   ],
   "source": [
    "from gmpy2 import xmpz\n",
    "\n",
    "def increment(acc_increment):\n",
    "    assert is_valid_accumulator(acc_increment), \"not a valid accumulator\"\n",
    "    acc_increment += 1\n",
    "\n",
    "def is_valid_accumulator(acc):\n",
    "    return isinstance(acc, xmpz) and acc >= 0    \n",
    "\n",
    "b = xmpz(4)\n",
    "print(f\"{b}++ = \", end=\"\")\n",
    "increment(b)\n",
    "print(b)\n",
    "assert b == 5"
   ]
  },
  {
   "cell_type": "code",
   "execution_count": 53,
   "id": "2b79f18e",
   "metadata": {},
   "outputs": [],
   "source": [
    "x = 10**100\n",
    "y = x\n",
    "x += 1\n",
    "assert x == 10**100 + 1 and y == 10**100"
   ]
  },
  {
   "cell_type": "code",
   "execution_count": 54,
   "id": "1df0215e",
   "metadata": {},
   "outputs": [
    {
     "name": "stdout",
     "output_type": "stream",
     "text": [
      "Before: id(b) = 2082778466064\n",
      "2 + 4 = 6\n",
      "After:  id(b) = 2082778466064\n"
     ]
    }
   ],
   "source": [
    "def add(a, add_acc):\n",
    "    assert is_valid_accumulator(add_acc), \"not a valid accumulator\"\n",
    "    for _ in range(a):\n",
    "        add_acc += 1\n",
    "\n",
    "a = 2\n",
    "b = xmpz(4)\n",
    "print(f\"Before: id(b) = {id(b)}\")\n",
    "print(f\"{a} + {b} = \", end=\"\")\n",
    "add(a, b)\n",
    "print(b)\n",
    "print(f\"After:  id(b) = {id(b)}\")  # ← compare object IDs\n",
    "assert b == 6\n"
   ]
  },
  {
   "cell_type": "code",
   "execution_count": 57,
   "id": "16876369",
   "metadata": {},
   "outputs": [
    {
     "name": "stdout",
     "output_type": "stream",
     "text": [
      "2 * 4 = 8\n"
     ]
    }
   ],
   "source": [
    "def multiply(a, multiply_acc):\n",
    "    assert is_valid_accumulator(multiply_acc), \"not a valid accumulator\"\n",
    "\n",
    "    add_acc = xmpz(0)\n",
    "    for _ in count_down(multiply_acc):\n",
    "        for _ in range(a):\n",
    "            add_acc += 1\n",
    "    return add_acc\n",
    "\n",
    "def count_down(acc):\n",
    "    assert is_valid_accumulator(acc), \"not a valid accumulator\"\n",
    "    while acc > 0:\n",
    "        acc -= 1\n",
    "        yield\n",
    "\n",
    "a = 2\n",
    "b = xmpz(4)\n",
    "print(f\"{a} * {b} = \", end=\"\")\n",
    "c = multiply(a, b)\n",
    "print(c)\n",
    "assert c == 8\n",
    "assert b == 0\n"
   ]
  },
  {
   "cell_type": "code",
   "execution_count": 58,
   "id": "fa49b54a",
   "metadata": {},
   "outputs": [
    {
     "name": "stdout",
     "output_type": "stream",
     "text": [
      "2^4 = 16\n"
     ]
    }
   ],
   "source": [
    "def exponentiate(a, exponentiate_acc):\n",
    "    assert is_valid_accumulator(exponentiate_acc), \"not a valid accumulator\"\n",
    "    assert a > 0 or exponentiate_acc != 0, \"0^0 is undefined\"\n",
    "\n",
    "    multiply_acc = xmpz(0)\n",
    "    multiply_acc += 1\n",
    "    for _ in count_down(exponentiate_acc):\n",
    "        add_acc = xmpz(0)\n",
    "        for _ in count_down(multiply_acc):\n",
    "            for _ in range(a):\n",
    "                add_acc += 1\n",
    "        multiply_acc = add_acc\n",
    "    return multiply_acc\n",
    "\n",
    "\n",
    "a = 2\n",
    "b = xmpz(4)\n",
    "print(f\"{a}^{b} = \", end=\"\")\n",
    "c = exponentiate(a, b)\n",
    "print(c)\n",
    "assert c == 16\n",
    "assert b == 0"
   ]
  },
  {
   "cell_type": "code",
   "execution_count": null,
   "id": "5157f905",
   "metadata": {},
   "outputs": [
    {
     "name": "stdout",
     "output_type": "stream",
     "text": [
      "2↑↑3 = 16\n"
     ]
    }
   ],
   "source": [
    "def tetrate(a, tetrate_acc):\n",
    "    assert is_valid_accumulator(tetrate_acc), \"not a valid accumulator\"\n",
    "    assert a > 0, \"we don't define 0↑↑b\"\n",
    "\n",
    "    exponentiate_acc = xmpz(0)\n",
    "    exponentiate_acc += 1\n",
    "    for _ in count_down(tetrate_acc):\n",
    "        multiply_acc = xmpz(0)\n",
    "        multiply_acc += 1\n",
    "        for _ in count_down(exponentiate_acc):\n",
    "            add_acc = xmpz(0)\n",
    "            for _ in count_down(multiply_acc):\n",
    "                for _ in range(a):\n",
    "                    add_acc += 1\n",
    "            multiply_acc = add_acc\n",
    "        exponentiate_acc = multiply_acc\n",
    "    return exponentiate_acc\n",
    "\n",
    "\n",
    "a = 2\n",
    "b = xmpz(3)\n",
    "print(f\"{a}↑↑{b} = \", end=\"\")\n",
    "c = tetrate(a, b)\n",
    "print(c)\n",
    "assert c == 16  # 2^(2^2)\n",
    "assert b == 0   # Confirm tetrate_acc is consumed\n"
   ]
  },
  {
   "cell_type": "code",
   "execution_count": 59,
   "id": "3b82f8cd",
   "metadata": {},
   "outputs": [],
   "source": [
    "# a = 10\n",
    "# b = xmpz(15)\n",
    "# print(f\"{a}↑↑{b} = \", end=\"\")\n",
    "# c = tetrate(a, b)\n",
    "# print(c)"
   ]
  }
 ],
 "metadata": {
  "kernelspec": {
   "display_name": ".venv",
   "language": "python",
   "name": "python3"
  },
  "language_info": {
   "codemirror_mode": {
    "name": "ipython",
    "version": 3
   },
   "file_extension": ".py",
   "mimetype": "text/x-python",
   "name": "python",
   "nbconvert_exporter": "python",
   "pygments_lexer": "ipython3",
   "version": "3.13.0"
  }
 },
 "nbformat": 4,
 "nbformat_minor": 5
}
