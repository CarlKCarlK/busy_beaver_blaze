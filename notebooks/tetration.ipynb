{
 "cells": [
  {
   "cell_type": "code",
   "execution_count": 11,
   "id": "a2bd325f",
   "metadata": {},
   "outputs": [
    {
     "name": "stdout",
     "output_type": "stream",
     "text": [
      "4++ = 5\n"
     ]
    }
   ],
   "source": [
    "import gmpy2\n",
    "from gmpy2 import xmpz  # Use the mutable xmpz type\n",
    "\n",
    "def increment(increment_acc):\n",
    "    assert is_valid_acc(increment_acc), \"Invalid accumulator\"\n",
    "    increment_acc += 1\n",
    "\n",
    "def is_valid_acc(acc):\n",
    "    return isinstance(acc, xmpz) and acc >= 0\n",
    "\n",
    "b = xmpz(4)\n",
    "print(f\"{b}++ = \", end=\"\")\n",
    "increment(b)\n",
    "assert b == 5\n",
    "print(f\"{b}\")"
   ]
  },
  {
   "cell_type": "code",
   "execution_count": null,
   "id": "1df0215e",
   "metadata": {},
   "outputs": [
    {
     "name": "stdout",
     "output_type": "stream",
     "text": [
      "2 + 4 = 6\n"
     ]
    }
   ],
   "source": [
    "def add(a, add_acc):\n",
    "    assert isinstance(add_acc, gmpy2.mpz), \"add_acc must be a gmpy2.mpz\"\n",
    "    for _ in range(a):\n",
    "        add_acc += 1\n",
    "    return add_acc\n",
    "\n",
    "a = 2\n",
    "b = gmpy2.mpz(4)\n",
    "print(f\"{a} + {b} = \", end=\"\")\n",
    "b = add(a, b)\n",
    "assert b == 6\n",
    "print(b)"
   ]
  },
  {
   "cell_type": "code",
   "execution_count": null,
   "id": "6919b24b",
   "metadata": {},
   "outputs": [],
   "source": [
    "def count_down(acc):\n",
    "    assert isinstance(acc, gmpy2.mpz), \"accumulator must be a gmpy2.mpz\"\n",
    "    while acc > 0:\n",
    "        acc -= 1\n",
    "        yield acc"
   ]
  },
  {
   "cell_type": "code",
   "execution_count": null,
   "id": "16876369",
   "metadata": {},
   "outputs": [
    {
     "name": "stdout",
     "output_type": "stream",
     "text": [
      "2 * 4 = 8\n"
     ]
    }
   ],
   "source": [
    "def multiply(a, multiply_acc):\n",
    "    assert isinstance(multiply_acc, gmpy2.mpz), \"multiply_acc must be a gmpy2.mpz\"\n",
    "\n",
    "    temp = gmpy2.mpz(multiply_acc)\n",
    "    add_acc = gmpy2.mpz(0)\n",
    "    for _ in count_down(temp):\n",
    "        for _ in range(a):\n",
    "            add_acc += 1\n",
    "    return add_acc\n",
    "\n",
    "a = 2\n",
    "b = gmpy2.mpz(4)\n",
    "print(f\"{a} * {b} = \", end=\"\")\n",
    "b = multiply(a, b)\n",
    "assert b == 8\n",
    "print(b)\n"
   ]
  },
  {
   "cell_type": "code",
   "execution_count": null,
   "id": "42c5a6ba",
   "metadata": {},
   "outputs": [
    {
     "name": "stdout",
     "output_type": "stream",
     "text": [
      "2^4 = 16\n"
     ]
    }
   ],
   "source": [
    "def exponentiate(a, exponentiate_acc):\n",
    "    assert a > 0 or exponentiate_acc != 0, \"0^0 is undefined\"\n",
    "    assert isinstance(exponentiate_acc, gmpy2.mpz), \"exponentiate_acc must be a gmpy2.mpz\"\n",
    "\n",
    "    temp = gmpy2.mpz(exponentiate_acc)\n",
    "    multiply_acc = gmpy2.mpz(1)\n",
    "    for _ in count_down(temp):\n",
    "        add_acc = gmpy2.mpz(0)\n",
    "        temp_multiply = gmpy2.mpz(multiply_acc)\n",
    "        for _ in count_down(temp_multiply):\n",
    "            for _ in range(a):\n",
    "                add_acc += 1\n",
    "        multiply_acc = add_acc\n",
    "    return multiply_acc\n",
    "\n",
    "a = 2\n",
    "b = gmpy2.mpz(4)\n",
    "print(f\"{a}^{b} = \", end=\"\")\n",
    "b = exponentiate(a, b)\n",
    "assert b == 16\n",
    "print(b)\n"
   ]
  },
  {
   "cell_type": "code",
   "execution_count": null,
   "id": "5157f905",
   "metadata": {},
   "outputs": [
    {
     "name": "stdout",
     "output_type": "stream",
     "text": [
      "2↑↑3 = 16\n"
     ]
    }
   ],
   "source": [
    "def tetrate(a, tetrate_acc):\n",
    "    assert isinstance(tetrate_acc, gmpy2.mpz), \"tetrate_acc must be a gmpy2.mpz\"\n",
    "    assert isinstance(a, int) and a > 0, \"We don't define 0↑↑b\"\n",
    "\n",
    "    temp = gmpy2.mpz(tetrate_acc)\n",
    "    exponentiate_acc = gmpy2.mpz(1)\n",
    "    for _ in count_down(temp):\n",
    "        multiply_acc = gmpy2.mpz(1)\n",
    "        temp_exp = gmpy2.mpz(exponentiate_acc)\n",
    "        for _ in count_down(temp_exp):\n",
    "            add_acc = gmpy2.mpz(0)\n",
    "            temp_multiply = gmpy2.mpz(multiply_acc)\n",
    "            for _ in count_down(temp_multiply):\n",
    "                for _ in range(a):\n",
    "                    add_acc += 1\n",
    "            multiply_acc = add_acc\n",
    "        exponentiate_acc = multiply_acc\n",
    "    return exponentiate_acc\n",
    "\n",
    "a = 2\n",
    "b = gmpy2.mpz(3)\n",
    "print(f\"{a}↑↑{b} = \", end=\"\")\n",
    "b = tetrate(a, b)\n",
    "assert b == 16\n",
    "print(f\"{b}\")"
   ]
  },
  {
   "cell_type": "code",
   "execution_count": null,
   "id": "3b82f8cd",
   "metadata": {},
   "outputs": [],
   "source": [
    "# a = 10\n",
    "# b = gmpy2.mpz(15)\n",
    "\n",
    "# print(f\"{a}↑↑{b}\\t= \", end=\"\")\n",
    "# b = tetrate(a, b)\n",
    "# print(f\"{b}\")"
   ]
  }
 ],
 "metadata": {
  "kernelspec": {
   "display_name": ".venv",
   "language": "python",
   "name": "python3"
  },
  "language_info": {
   "codemirror_mode": {
    "name": "ipython",
    "version": 3
   },
   "file_extension": ".py",
   "mimetype": "text/x-python",
   "name": "python",
   "nbconvert_exporter": "python",
   "pygments_lexer": "ipython3",
   "version": "3.13.0"
  }
 },
 "nbformat": 4,
 "nbformat_minor": 5
}
