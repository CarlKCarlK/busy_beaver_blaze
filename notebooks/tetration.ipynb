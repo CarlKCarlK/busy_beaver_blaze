{
 "cells": [
  {
   "cell_type": "code",
   "execution_count": 14,
   "id": "a2bd325f",
   "metadata": {},
   "outputs": [
    {
     "name": "stdout",
     "output_type": "stream",
     "text": [
      "4++ = 5\n"
     ]
    }
   ],
   "source": [
    "def is_single_int_list(acc):\n",
    "    return isinstance(acc, list) and len(acc) == 1 and isinstance(acc[0], int)\n",
    "\n",
    "\n",
    "def increment(increment_acc):\n",
    "    assert is_single_int_list(increment_acc), \"increment_acc must be a list containing a single int\"\n",
    "    increment_acc[0] += 1\n",
    "\n",
    "b = [4]\n",
    "print(f\"{b[0]}++ = \", end=\"\")\n",
    "increment(b)\n",
    "assert b[0] == 5\n",
    "print(f\"{b[0]}\")  \n",
    "\n"
   ]
  },
  {
   "cell_type": "code",
   "execution_count": 8,
   "id": "1df0215e",
   "metadata": {},
   "outputs": [
    {
     "name": "stdout",
     "output_type": "stream",
     "text": [
      "2 + 4 = 6\n"
     ]
    }
   ],
   "source": [
    "def add(a, add_acc):\n",
    "    assert is_single_int_list(add_acc), \"add_acc must be a list containing a single int\"\n",
    "    for _ in range(a):\n",
    "        add_acc[0] += 1\n",
    "\n",
    "a = 2\n",
    "b = [4]\n",
    "print(f\"{a} + {b[0]} = \", end=\"\")\n",
    "add(a, b)\n",
    "assert b[0] == 6\n",
    "print(b[0])"
   ]
  },
  {
   "cell_type": "code",
   "execution_count": null,
   "id": "6919b24b",
   "metadata": {},
   "outputs": [],
   "source": [
    "def count_down(acc):\n",
    "    assert is_single_int_list(acc), \"accumulator must be a list containing a single int\"\n",
    "    while acc[0] > 0:\n",
    "        acc[0] -= 1\n",
    "        yield"
   ]
  },
  {
   "cell_type": "code",
   "execution_count": 15,
   "id": "16876369",
   "metadata": {},
   "outputs": [
    {
     "name": "stdout",
     "output_type": "stream",
     "text": [
      "2 * 4 = 8\n"
     ]
    }
   ],
   "source": [
    "def multiply(a, multiply_acc):\n",
    "    assert is_single_int_list(multiply_acc), \"multiply_acc must be a list containing a single int\"\n",
    "\n",
    "    add_acc = [0]\n",
    "    for _ in count_down(multiply_acc):\n",
    "        for _ in range(a):\n",
    "            add_acc[0] += 1\n",
    "    multiply_acc[0] = add_acc[0]\n",
    "\n",
    "a = 2\n",
    "b = [4]\n",
    "print(f\"{a} * {b[0]} = \", end=\"\")\n",
    "multiply(a, b)\n",
    "assert b[0] == 8\n",
    "print(b[0])\n"
   ]
  },
  {
   "cell_type": "code",
   "execution_count": 16,
   "id": "42c5a6ba",
   "metadata": {},
   "outputs": [
    {
     "name": "stdout",
     "output_type": "stream",
     "text": [
      "2^4 = 16\n"
     ]
    }
   ],
   "source": [
    "def exponentiate(a, exponentiate_acc):\n",
    "    assert a > 0 or exponentiate_acc[0] != 0, \"0^0 is undefined\"\n",
    "\n",
    "    multiply_acc = [0]\n",
    "    multiply_acc[0] += 1\n",
    "    for _ in count_down(exponentiate_acc):\n",
    "        add_acc = [0]\n",
    "        for _ in count_down(multiply_acc):\n",
    "            for _ in range(a):\n",
    "                add_acc[0] += 1\n",
    "        multiply_acc[0] = add_acc[0]\n",
    "    exponentiate_acc[0] = multiply_acc[0]\n",
    "\n",
    "a = 2\n",
    "b = [4]\n",
    "print(f\"{a}^{b[0]} = \", end=\"\")\n",
    "exponentiate(a, b)\n",
    "assert b[0] == 16\n",
    "print(b[0])\n"
   ]
  },
  {
   "cell_type": "code",
   "execution_count": 17,
   "id": "5157f905",
   "metadata": {},
   "outputs": [
    {
     "name": "stdout",
     "output_type": "stream",
     "text": [
      "2↑↑3 = 16\n"
     ]
    }
   ],
   "source": [
    "def tetrate(a, tetrate_acc):\n",
    "    assert is_single_int_list(tetrate_acc), \"tetrate_acc must be a list containing a single int\"\n",
    "    assert isinstance(a, int) and a > 0, \"We don't define 0↑↑b\"\n",
    "\n",
    "    exponentiate_acc = [0]\n",
    "    exponentiate_acc[0] += 1\n",
    "    for _ in count_down(tetrate_acc):\n",
    "        multiply_acc = [1]\n",
    "        for _ in count_down(exponentiate_acc):\n",
    "            add_acc = [0]\n",
    "            for _ in count_down(multiply_acc):\n",
    "                for _ in range(a):\n",
    "                    add_acc[0] += 1\n",
    "            multiply_acc[0] = add_acc[0]\n",
    "        exponentiate_acc[0] = multiply_acc[0]\n",
    "    tetrate_acc[0] = exponentiate_acc[0]\n",
    "\n",
    "a = 2\n",
    "b = [3]\n",
    "print(f\"{a}↑↑{b[0]} = \", end=\"\")\n",
    "tetrate(a, b)\n",
    "assert b[0] == 16\n",
    "print(f\"{b[0]}\")"
   ]
  },
  {
   "cell_type": "code",
   "execution_count": null,
   "id": "3b82f8cd",
   "metadata": {},
   "outputs": [],
   "source": [
    "# a = 10\n",
    "# b = [15]\n",
    "\n",
    "# print(f\"{a}↑↑{b[0]}\\t= \", end=\"\")\n",
    "# tetrate(a, b)\n",
    "# print(f\"{b[0]}\")"
   ]
  }
 ],
 "metadata": {
  "kernelspec": {
   "display_name": ".venv",
   "language": "python",
   "name": "python3"
  },
  "language_info": {
   "codemirror_mode": {
    "name": "ipython",
    "version": 3
   },
   "file_extension": ".py",
   "mimetype": "text/x-python",
   "name": "python",
   "nbconvert_exporter": "python",
   "pygments_lexer": "ipython3",
   "version": "3.13.0"
  }
 },
 "nbformat": 4,
 "nbformat_minor": 5
}
