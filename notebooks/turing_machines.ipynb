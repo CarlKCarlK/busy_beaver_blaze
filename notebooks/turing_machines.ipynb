{
 "cells": [
  {
   "cell_type": "code",
   "execution_count": 1,
   "id": "2decfbe3",
   "metadata": {},
   "outputs": [],
   "source": [
    "import sys\n",
    "import os\n",
    "\n",
    "# Add the root of your project to sys.path\n",
    "sys.path.insert(0, os.path.abspath(\"..\"))\n"
   ]
  },
  {
   "cell_type": "code",
   "execution_count": 2,
   "id": "b138e3bc",
   "metadata": {},
   "outputs": [],
   "source": [
    "from busy_beaver_blaze import Machine"
   ]
  },
  {
   "cell_type": "code",
   "execution_count": null,
   "id": "c51d40c0",
   "metadata": {},
   "outputs": [
    {
     "name": "stdout",
     "output_type": "stream",
     "text": [
      "Created a machine with 5 states\n"
     ]
    }
   ],
   "source": [
    "# Create a machine with this program: 1RB1RE_1LC0LC_1RD1LB_1RA0RD_---0RC\n"
   ]
  },
  {
   "cell_type": "code",
   "execution_count": null,
   "id": "b83e8c1b",
   "metadata": {},
   "outputs": [
    {
     "name": "stdout",
     "output_type": "stream",
     "text": [
      "Created a machine with 5 states\n",
      "Machine ran for a total: 23,554,764 steps including initial state)\n",
      "Number of ones on tape: 4,097\n"
     ]
    }
   ],
   "source": [
    "# cmk0000 review the parsers maybe removing support for the other formats (or add tests for them)\n",
    "import itertools\n",
    "\n",
    "machine = Machine(\"1RB0LD_1LC1RD_1LA1LC_1RZ1RE_1RA0RB\")\n",
    "step_goal = 100_000_000\n",
    "\n",
    "print(f\"Created a machine with {machine.program.state_count} states\")\n",
    "\n",
    "# Step 0 is the initial state, so we need to run up to step 999\n",
    "steps_run = sum(1 for _ in itertools.islice(machine, step_goal - 1))\n",
    "\n",
    "print(f\"Machine ran for a total: {steps_run + 1:,} steps including initial state)\")\n",
    "print(f\"Number of ones on tape: {machine.count_ones():,}\")"
   ]
  },
  {
   "cell_type": "code",
   "execution_count": null,
   "id": "28c7a063",
   "metadata": {},
   "outputs": [],
   "source": []
  },
  {
   "cell_type": "code",
   "execution_count": null,
   "id": "96d9ca39",
   "metadata": {},
   "outputs": [],
   "source": []
  }
 ],
 "metadata": {
  "kernelspec": {
   "display_name": ".venv",
   "language": "python",
   "name": "python3"
  },
  "language_info": {
   "codemirror_mode": {
    "name": "ipython",
    "version": 3
   },
   "file_extension": ".py",
   "mimetype": "text/x-python",
   "name": "python",
   "nbconvert_exporter": "python",
   "pygments_lexer": "ipython3",
   "version": "3.13.0"
  }
 },
 "nbformat": 4,
 "nbformat_minor": 5
}
