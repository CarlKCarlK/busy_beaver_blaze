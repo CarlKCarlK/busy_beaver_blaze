{
 "cells": [
  {
   "cell_type": "code",
   "execution_count": 1,
   "id": "adb74832",
   "metadata": {},
   "outputs": [],
   "source": [
    "from busy_beaver_blaze import Visualizer, BB5_CHAMP, BB6_CONTENDER  # noqa: F401\n"
   ]
  },
  {
   "cell_type": "code",
   "execution_count": 2,
   "id": "b83e8c1b",
   "metadata": {},
   "outputs": [
    {
     "name": "stdout",
     "output_type": "stream",
     "text": [
      "Created a machine with 5 states\n",
      "Machine ran for a total: 23,554,764 steps including initial state\n",
      "Number of ones on tape: 4,097\n"
     ]
    }
   ],
   "source": [
    "import itertools\n",
    "from busy_beaver_blaze import Machine\n",
    "\n",
    "machine = Machine(\"1RB0LD_1LC1RD_1LA1LC_1RZ1RE_1RA0RB\")\n",
    "step_limit = 100_000_000\n",
    "\n",
    "print(f\"Created a machine with {machine.program.state_count} states\")\n",
    "\n",
    "# Step 0 is the initial state, so we can run one less than the limit\n",
    "steps_run = 1 + sum(1 for _ in itertools.islice(machine, step_limit - 1))\n",
    "\n",
    "print(f\"Machine ran for a total: {steps_run:,} steps including initial state\")\n",
    "print(f\"Number of ones on tape: {machine.count_ones():,}\")"
   ]
  },
  {
   "cell_type": "code",
   "execution_count": 3,
   "id": "701aa916",
   "metadata": {},
   "outputs": [
    {
     "name": "stdout",
     "output_type": "stream",
     "text": [
      "Rust helper ran 23,554,764 steps with 4,097 ones (avg 0.101s per run over 100 runs)\n",
      "Python-only helper ran 23,554,764 steps with 4,097 ones (avg 10.170s per run over 1 runs)\n"
     ]
    }
   ],
   "source": [
    "from time import perf_counter\n",
    "from busy_beaver_blaze import run_machine_steps\n",
    "\n",
    "rust_repeat_count = 100\n",
    "python_repeat_count = 1\n",
    "step_limit = 100_000_000\n",
    "\n",
    "rust_total = 0.0\n",
    "rust_steps = None\n",
    "rust_nonzeros = None\n",
    "for _ in range(rust_repeat_count):\n",
    "    start = perf_counter()\n",
    "    current_steps, current_nonzeros = run_machine_steps(\n",
    "        \"1RB0LD_1LC1RD_1LA1LC_1RZ1RE_1RA0RB\",\n",
    "        step_limit,\n",
    "    )\n",
    "    rust_total += perf_counter() - start\n",
    "    if rust_steps is None:\n",
    "        rust_steps = current_steps\n",
    "        rust_nonzeros = current_nonzeros\n",
    "    else:\n",
    "        assert current_steps == rust_steps\n",
    "        assert current_nonzeros == rust_nonzeros\n",
    "\n",
    "rust_average = rust_total / rust_repeat_count\n",
    "rust_message = (\n",
    "    f\"Rust helper ran {rust_steps:,} steps with {rust_nonzeros:,} ones \"\n",
    "    f\"(avg {rust_average:.3f}s per run over {rust_repeat_count} runs)\"\n",
    ")\n",
    "print(rust_message)\n",
    "\n",
    "python_total = 0.0\n",
    "python_steps = None\n",
    "python_nonzeros = None\n",
    "for _ in range(python_repeat_count):\n",
    "    start = perf_counter()\n",
    "    current_steps, current_nonzeros = run_machine_steps(\n",
    "        \"1RB0LD_1LC1RD_1LA1LC_1RZ1RE_1RA0RB\",\n",
    "        step_limit,\n",
    "        force_python_only=True,\n",
    "    )\n",
    "    python_total += perf_counter() - start\n",
    "    if python_steps is None:\n",
    "        python_steps = current_steps\n",
    "        python_nonzeros = current_nonzeros\n",
    "    else:\n",
    "        assert current_steps == python_steps\n",
    "        assert current_nonzeros == python_nonzeros\n",
    "\n",
    "python_average = python_total / python_repeat_count\n",
    "python_message = (\n",
    "    f\"Python-only helper ran {python_steps:,} steps with {python_nonzeros:,} ones \"\n",
    "    f\"(avg {python_average:.3f}s per run over {python_repeat_count} runs)\"\n",
    ")\n",
    "print(python_message)\n",
    "\n",
    "assert rust_steps == python_steps\n",
    "assert rust_nonzeros == python_nonzeros\n"
   ]
  }
 ],
 "metadata": {
  "kernelspec": {
   "display_name": ".venv (3.13.0)",
   "language": "python",
   "name": "python3"
  },
  "language_info": {
   "codemirror_mode": {
    "name": "ipython",
    "version": 3
   },
   "file_extension": ".py",
   "mimetype": "text/x-python",
   "name": "python",
   "nbconvert_exporter": "python",
   "pygments_lexer": "ipython3",
   "version": "3.13.0"
  }
 },
 "nbformat": 4,
 "nbformat_minor": 5
}