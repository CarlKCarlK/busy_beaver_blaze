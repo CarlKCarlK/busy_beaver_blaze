{
 "cells": [
  {
   "cell_type": "code",
   "execution_count": 1,
   "id": "adb74832",
   "metadata": {},
   "outputs": [],
   "source": [
    "from busy_beaver_blaze import Visualizer, BB5_CHAMP, BB6_CONTENDER  # noqa: F401\n"
   ]
  },
  {
   "cell_type": "code",
   "execution_count": 1,
   "id": "b83e8c1b",
   "metadata": {},
   "outputs": [
    {
     "name": "stdout",
     "output_type": "stream",
     "text": [
      "Created a machine with 5 states\n",
      "Machine ran for a total: 23,554,764 steps including initial state\n",
      "Number of ones on tape: 4,097\n"
     ]
    }
   ],
   "source": [
    "import itertools\n",
    "from busy_beaver_blaze import Machine\n",
    "\n",
    "machine = Machine(\"1RB0LD_1LC1RD_1LA1LC_1RZ1RE_1RA0RB\")\n",
    "step_limit = 100_000_000\n",
    "\n",
    "print(f\"Created a machine with {machine.program.state_count} states\")\n",
    "\n",
    "# Step 0 is the initial state, so we can run one less than the limit\n",
    "steps_run = 1 + sum(1 for _ in itertools.islice(machine, step_limit - 1))\n",
    "\n",
    "print(f\"Machine ran for a total: {steps_run:,} steps including initial state\")\n",
    "print(f\"Number of ones on tape: {machine.count_ones():,}\")"
   ]
  },
  {
   "cell_type": "code",
   "execution_count": 1,
   "id": "701aa916",
   "metadata": {},
   "outputs": [
    {
     "name": "stdout",
     "output_type": "stream",
     "text": [
      "Assembly (auto) ran 47,176,870 steps with 4,098 ones (avg 0.034s per run over 50 runs, total 1.713s)\n",
      "Rust interpreter ran 47,176,870 steps with 4,098 ones (avg 0.211s per run over 50 runs, total 10.560s)\n",
      "Python helper ran 47,176,870 steps with 4,098 ones (avg 26.124s over 1 run)\n",
      "Assembly speedup vs Rust: 6.16x\n",
      "Rust speedup vs Python: 123.70x\n"
     ]
    }
   ],
   "source": [
    "from time import perf_counter\n",
    "from busy_beaver_blaze import BB5_CHAMP, run_machine_steps\n",
    "\n",
    "asm_repeat = 50\n",
    "rust_repeat = 50\n",
    "python_repeat = 1\n",
    "step_limit = 100_000_000\n",
    "\n",
    "def bench(mode, repeats):\n",
    "    total = 0.0\n",
    "    steps = None\n",
    "    nonzeros = None\n",
    "    for _ in range(repeats):\n",
    "        start = perf_counter()\n",
    "        current_steps, current_nonzeros = run_machine_steps(\n",
    "            BB5_CHAMP,\n",
    "            step_limit,\n",
    "            force=mode,\n",
    "        )\n",
    "        total += perf_counter() - start\n",
    "        if steps is None:\n",
    "            steps = current_steps\n",
    "            nonzeros = current_nonzeros\n",
    "        else:\n",
    "            assert current_steps == steps\n",
    "            assert current_nonzeros == nonzeros\n",
    "    return steps, nonzeros, total / repeats, total\n",
    "\n",
    "asm_steps, asm_nonzeros, asm_avg, asm_total = bench(None, asm_repeat)\n",
    "rust_steps, rust_nonzeros, rust_avg, rust_total = bench(\"rust\", rust_repeat)\n",
    "python_steps, python_nonzeros, python_avg, python_total = bench(\"python\", python_repeat)\n",
    "\n",
    "assert asm_steps == rust_steps == python_steps\n",
    "assert asm_nonzeros == rust_nonzeros == python_nonzeros\n",
    "\n",
    "print(\n",
    "    f\"Assembly (auto) ran {asm_steps:,} steps with {asm_nonzeros:,} ones \"\n",
    "    f\"(avg {asm_avg:.3f}s per run over {asm_repeat} runs, total {asm_total:.3f}s)\"\n",
    ")\n",
    "print(\n",
    "    f\"Rust interpreter ran {rust_steps:,} steps with {rust_nonzeros:,} ones \"\n",
    "    f\"(avg {rust_avg:.3f}s per run over {rust_repeat} runs, total {rust_total:.3f}s)\"\n",
    ")\n",
    "print(\n",
    "    f\"Python helper ran {python_steps:,} steps with {python_nonzeros:,} ones \"\n",
    "    f\"(avg {python_avg:.3f}s over {python_repeat} run)\"\n",
    ")\n",
    "print(\n",
    "    f\"Assembly speedup vs Rust: {rust_avg / asm_avg:.2f}x\"\n",
    ")\n",
    "print(\n",
    "    f\"Rust speedup vs Python: {python_avg / rust_avg:.2f}x\"\n",
    ")\n",
    "\n"
   ]
  }
 ],
 "metadata": {
  "kernelspec": {
   "display_name": ".venv (3.13.0)",
   "language": "python",
   "name": "python3"
  },
  "language_info": {
   "codemirror_mode": {
    "name": "ipython",
    "version": 3
   },
   "file_extension": ".py",
   "mimetype": "text/x-python",
   "name": "python",
   "nbconvert_exporter": "python",
   "pygments_lexer": "ipython3",
   "version": "3.13.0"
  }
 },
 "nbformat": 4,
 "nbformat_minor": 5
}
