{
 "cells": [
  {
   "cell_type": "markdown",
   "id": "722b43cd",
   "metadata": {},
   "source": [
    "# Turing Machine Implementation Demo\n",
    "\n",
    "This notebook demonstrates how to use the Turing Machine implementation in the `busy_beaver_blaze` package."
   ]
  },
  {
   "cell_type": "code",
   "execution_count": 2,
   "id": "2decfbe3",
   "metadata": {},
   "outputs": [],
   "source": [
    "import sys\n",
    "import os\n",
    "\n",
    "# Add the root of your project to sys.path\n",
    "sys.path.insert(0, os.path.abspath(\"..\"))\n"
   ]
  },
  {
   "cell_type": "code",
   "execution_count": 5,
   "id": "b138e3bc",
   "metadata": {},
   "outputs": [],
   "source": [
    "# Import the necessary classes from the package\n",
    "from busy_beaver_blaze import Machine, Program"
   ]
  },
  {
   "cell_type": "code",
   "execution_count": 6,
   "id": "c51d40c0",
   "metadata": {},
   "outputs": [
    {
     "name": "stdout",
     "output_type": "stream",
     "text": [
      "Created a machine with 5 states\n"
     ]
    }
   ],
   "source": [
    "# Create a machine with this program: 1RB1RE_1LC0LC_1RD1LB_1RA0RD_---0RC\n",
    "program_text = \"1RB1RE_1LC0LC_1RD1LB_1RA0RD_---0RC\"\n",
    "\n",
    "# Parse the program using the standard format parser\n",
    "program = Program.from_text(program_text)\n",
    "\n",
    "# Create a new machine with this program\n",
    "machine = Machine(program)\n",
    "\n",
    "print(f\"Created a machine with {program.state_count} states\")"
   ]
  },
  {
   "cell_type": "markdown",
   "id": "7fbde0a7",
   "metadata": {},
   "source": [
    "## Running the Machine\n",
    "\n",
    "Let's run the machine for a few steps and see what happens:"
   ]
  },
  {
   "cell_type": "code",
   "execution_count": 7,
   "id": "95cd0ae0",
   "metadata": {},
   "outputs": [
    {
     "name": "stdout",
     "output_type": "stream",
     "text": [
      "Initial tape: |0\n",
      "Initial state: 0\n",
      "Step 1: State 1, Tape index 1, Tape: |1\n",
      "Step 2: State 2, Tape index 0, Tape: |11\n",
      "Step 3: State 1, Tape index -1, Tape: |11\n",
      "Step 4: State 2, Tape index -2, Tape: 1|11\n",
      "Step 5: State 3, Tape index -1, Tape: 11|11\n",
      "Step 6: State 3, Tape index 0, Tape: 10|11\n",
      "Step 7: State 3, Tape index 1, Tape: 10|01\n",
      "Step 8: State 3, Tape index 2, Tape: 10|00\n",
      "Step 9: State 0, Tape index 3, Tape: 10|001\n",
      "Step 10: State 1, Tape index 4, Tape: 10|0011\n",
      "Step 11: State 2, Tape index 3, Tape: 10|00111\n",
      "Step 12: State 1, Tape index 2, Tape: 10|00111\n",
      "Step 13: State 2, Tape index 1, Tape: 10|00011\n",
      "Step 14: State 3, Tape index 2, Tape: 10|01011\n",
      "Step 15: State 0, Tape index 3, Tape: 10|01111\n",
      "Step 16: State 4, Tape index 4, Tape: 10|01111\n",
      "Step 17: State 2, Tape index 5, Tape: 10|01110\n",
      "Step 18: State 3, Tape index 6, Tape: 10|011101\n",
      "Step 19: State 0, Tape index 7, Tape: 10|0111011\n",
      "Step 20: State 1, Tape index 8, Tape: 10|01110111\n",
      "Step 21: State 2, Tape index 7, Tape: 10|011101111\n",
      "Step 22: State 1, Tape index 6, Tape: 10|011101111\n",
      "Step 23: State 2, Tape index 5, Tape: 10|011101011\n",
      "Step 24: State 1, Tape index 4, Tape: 10|011101011\n",
      "Step 25: State 2, Tape index 3, Tape: 10|011111011\n",
      "Step 26: State 1, Tape index 2, Tape: 10|011111011\n",
      "Step 27: State 2, Tape index 1, Tape: 10|010111011\n",
      "Step 28: State 1, Tape index 0, Tape: 10|010111011\n",
      "Step 29: State 2, Tape index -1, Tape: 10|110111011\n",
      "Step 30: State 3, Tape index 0, Tape: 11|110111011\n",
      "Step 31: State 3, Tape index 1, Tape: 11|010111011\n",
      "Step 32: State 3, Tape index 2, Tape: 11|000111011\n",
      "Step 33: State 0, Tape index 3, Tape: 11|001111011\n",
      "Step 34: State 4, Tape index 4, Tape: 11|001111011\n",
      "Step 35: State 2, Tape index 5, Tape: 11|001101011\n",
      "Step 36: State 1, Tape index 4, Tape: 11|001101011\n",
      "Step 37: State 2, Tape index 3, Tape: 11|001111011\n",
      "Step 38: State 1, Tape index 2, Tape: 11|001111011\n",
      "Step 39: State 2, Tape index 1, Tape: 11|000111011\n",
      "Step 40: State 3, Tape index 2, Tape: 11|010111011\n",
      "Step 41: State 0, Tape index 3, Tape: 11|011111011\n",
      "Step 42: State 4, Tape index 4, Tape: 11|011111011\n",
      "Step 43: State 2, Tape index 5, Tape: 11|011101011\n",
      "Step 44: State 1, Tape index 4, Tape: 11|011101011\n",
      "Step 45: State 2, Tape index 3, Tape: 11|011111011\n",
      "Step 46: State 1, Tape index 2, Tape: 11|011111011\n",
      "Step 47: State 2, Tape index 1, Tape: 11|010111011\n",
      "Step 48: State 1, Tape index 0, Tape: 11|010111011\n",
      "Step 49: State 2, Tape index -1, Tape: 11|110111011\n",
      "Step 50: State 1, Tape index -2, Tape: 11|110111011\n",
      "Step 51: State 2, Tape index -3, Tape: 01|110111011\n",
      "Step 52: State 3, Tape index -2, Tape: 101|110111011\n",
      "Step 53: State 0, Tape index -1, Tape: 111|110111011\n",
      "Step 54: State 4, Tape index 0, Tape: 111|110111011\n",
      "Step 55: State 2, Tape index 1, Tape: 111|010111011\n",
      "Step 56: State 1, Tape index 0, Tape: 111|010111011\n",
      "Step 57: State 2, Tape index -1, Tape: 111|110111011\n",
      "Step 58: State 1, Tape index -2, Tape: 111|110111011\n",
      "Step 59: State 2, Tape index -3, Tape: 101|110111011\n",
      "Step 60: State 1, Tape index -4, Tape: 101|110111011\n",
      "Step 61: State 2, Tape index -5, Tape: 1101|110111011\n",
      "Step 62: State 3, Tape index -4, Tape: 11101|110111011\n",
      "Step 63: State 3, Tape index -3, Tape: 10101|110111011\n",
      "Step 64: State 3, Tape index -2, Tape: 10001|110111011\n",
      "Step 65: State 0, Tape index -1, Tape: 10011|110111011\n",
      "Step 66: State 4, Tape index 0, Tape: 10011|110111011\n",
      "Step 67: State 2, Tape index 1, Tape: 10011|010111011\n",
      "Step 68: State 1, Tape index 0, Tape: 10011|010111011\n",
      "Step 69: State 2, Tape index -1, Tape: 10011|110111011\n",
      "Step 70: State 1, Tape index -2, Tape: 10011|110111011\n",
      "Step 71: State 2, Tape index -3, Tape: 10001|110111011\n",
      "Step 72: State 3, Tape index -2, Tape: 10101|110111011\n",
      "Step 73: State 0, Tape index -1, Tape: 10111|110111011\n",
      "Step 74: State 4, Tape index 0, Tape: 10111|110111011\n",
      "Step 75: State 2, Tape index 1, Tape: 10111|010111011\n",
      "Step 76: State 1, Tape index 0, Tape: 10111|010111011\n",
      "Step 77: State 2, Tape index -1, Tape: 10111|110111011\n",
      "Step 78: State 1, Tape index -2, Tape: 10111|110111011\n",
      "Step 79: State 2, Tape index -3, Tape: 10101|110111011\n",
      "Step 80: State 1, Tape index -4, Tape: 10101|110111011\n",
      "Step 81: State 2, Tape index -5, Tape: 11101|110111011\n",
      "Step 82: State 1, Tape index -6, Tape: 11101|110111011\n",
      "Step 83: State 2, Tape index -7, Tape: 111101|110111011\n",
      "Step 84: State 3, Tape index -6, Tape: 1111101|110111011\n",
      "Step 85: State 3, Tape index -5, Tape: 1011101|110111011\n",
      "Step 86: State 3, Tape index -4, Tape: 1001101|110111011\n",
      "Step 87: State 3, Tape index -3, Tape: 1000101|110111011\n",
      "Step 88: State 3, Tape index -2, Tape: 1000001|110111011\n",
      "Step 89: State 0, Tape index -1, Tape: 1000011|110111011\n",
      "Step 90: State 4, Tape index 0, Tape: 1000011|110111011\n",
      "Step 91: State 2, Tape index 1, Tape: 1000011|010111011\n",
      "Step 92: State 1, Tape index 0, Tape: 1000011|010111011\n",
      "Step 93: State 2, Tape index -1, Tape: 1000011|110111011\n",
      "Step 94: State 1, Tape index -2, Tape: 1000011|110111011\n",
      "Step 95: State 2, Tape index -3, Tape: 1000001|110111011\n",
      "Step 96: State 3, Tape index -2, Tape: 1000101|110111011\n",
      "Step 97: State 0, Tape index -1, Tape: 1000111|110111011\n",
      "Step 98: State 4, Tape index 0, Tape: 1000111|110111011\n",
      "Step 99: State 2, Tape index 1, Tape: 1000111|010111011\n",
      "Step 100: State 1, Tape index 0, Tape: 1000111|010111011\n",
      "\n",
      "Reached maximum step count (100)\n"
     ]
    }
   ],
   "source": [
    "# Run the machine for a maximum of 100 steps or until it halts\n",
    "step_count = 0\n",
    "max_steps = 100\n",
    "\n",
    "print(f\"Initial tape: {machine.tape}\")\n",
    "print(f\"Initial state: {machine.state}\")\n",
    "\n",
    "while not machine.is_halted() and step_count < max_steps:\n",
    "    previous_index = machine.step()\n",
    "    if previous_index is None:  # Machine halted\n",
    "        break\n",
    "    \n",
    "    step_count += 1\n",
    "    print(f\"Step {step_count}: State {machine.state}, Tape index {machine.tape_index}, Tape: {machine.tape}\")\n",
    "\n",
    "if machine.is_halted():\n",
    "    print(f\"\\nMachine halted after {step_count} steps\")\n",
    "    print(f\"Final tape: {machine.tape}\")\n",
    "    print(f\"Number of 1s on tape: {machine.count_ones()}\")\n",
    "else:\n",
    "    print(f\"\\nReached maximum step count ({max_steps})\")"
   ]
  },
  {
   "cell_type": "markdown",
   "id": "6a219d61",
   "metadata": {},
   "source": [
    "## Alternative Program Format Examples\n",
    "\n",
    "You can also define programs using the other supported formats:"
   ]
  },
  {
   "cell_type": "code",
   "execution_count": null,
   "id": "89ea0be0",
   "metadata": {},
   "outputs": [],
   "source": [
    "# Example of state-to-symbol format\n",
    "state_to_symbol_text = \"\"\"0\t1\n",
    "A\t1RB\t1RE\n",
    "B\t1LC\t0LC\n",
    "C\t1RD\t1LB\n",
    "D\t1RA\t0RD\n",
    "E\t---\t0RC\"\"\"\n",
    "\n",
    "program1 = Program.from_text(state_to_symbol_text)\n",
    "print(f\"Created program with {program1.state_count} states\")\n",
    "\n",
    "# Example of symbol-to-state format\n",
    "symbol_to_state_text = \"\"\"    A\tB\tC\tD\tE\n",
    "0\t1RB\t1LC\t1RD\t1RA\t---\n",
    "1\t1RE\t0LC\t1LB\t0RD\t0RC\"\"\"\n",
    "\n",
    "program2 = Program.from_text(symbol_to_state_text)\n",
    "print(f\"Created program with {program2.state_count} states\")\n",
    "\n",
    "# All three program definitions should be equivalent\n",
    "print(\"All programs have the same number of states:\", \n",
    "      program.state_count == program1.state_count == program2.state_count)"
   ]
  }
 ],
 "metadata": {
  "kernelspec": {
   "display_name": ".venv",
   "language": "python",
   "name": "python3"
  },
  "language_info": {
   "codemirror_mode": {
    "name": "ipython",
    "version": 3
   },
   "file_extension": ".py",
   "mimetype": "text/x-python",
   "name": "python",
   "nbconvert_exporter": "python",
   "pygments_lexer": "ipython3",
   "version": "3.13.0"
  }
 },
 "nbformat": 4,
 "nbformat_minor": 5
}
