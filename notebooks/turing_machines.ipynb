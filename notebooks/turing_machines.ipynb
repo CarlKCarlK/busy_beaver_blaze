{
 "cells": [
  {
   "cell_type": "code",
   "execution_count": null,
   "id": "adb74832",
   "metadata": {},
   "outputs": [],
   "source": [
    "# Load the busy_beaver_blaze module from a GitHub\n",
    "import urllib.request\n",
    "import types\n",
    "import sys\n",
    "url = \"https://raw.githubusercontent.com/CarlKCarlK/busy_beaver_blaze/refs/heads/main/busy_beaver_blaze/__init__.py\"\n",
    "module_name = \"busy_beaver_blaze\"\n",
    "response = urllib.request.urlopen(url)\n",
    "code = response.read().decode(\"utf-8\")\n",
    "mod = types.ModuleType(module_name)\n",
    "exec(code, mod.__dict__)\n",
    "# Add to sys.modules so \"import busy_beaver_blaze\" works\n",
    "sys.modules[module_name] = mod"
   ]
  },
  {
   "cell_type": "code",
   "execution_count": 5,
   "id": "b83e8c1b",
   "metadata": {},
   "outputs": [
    {
     "name": "stdout",
     "output_type": "stream",
     "text": [
      "Created a machine with 5 states\n",
      "Machine ran for a total: 23,554,764 steps including initial state)\n",
      "Number of ones on tape: 4,097\n"
     ]
    }
   ],
   "source": [
    "import itertools\n",
    "from busy_beaver_blaze import Machine\n",
    "\n",
    "machine = Machine(\"1RB0LD_1LC1RD_1LA1LC_1RZ1RE_1RA0RB\")\n",
    "step_limit = 100_000_000\n",
    "\n",
    "print(f\"Created a machine with {machine.program.state_count} states\")\n",
    "\n",
    "# Step 0 is the initial state, so we can run one less than the limit\n",
    "steps_run = 1 + sum(1 for _ in itertools.islice(machine, step_limit - 1))\n",
    "\n",
    "print(f\"Machine ran for a total: {steps_run:,} steps including initial state)\")\n",
    "print(f\"Number of ones on tape: {machine.count_ones():,}\")"
   ]
  },
  {
   "cell_type": "code",
   "execution_count": null,
   "id": "28c7a063",
   "metadata": {},
   "outputs": [],
   "source": []
  },
  {
   "cell_type": "code",
   "execution_count": null,
   "id": "96d9ca39",
   "metadata": {},
   "outputs": [],
   "source": []
  }
 ],
 "metadata": {
  "kernelspec": {
   "display_name": ".venv (3.13.0)",
   "language": "python",
   "name": "python3"
  },
  "language_info": {
   "codemirror_mode": {
    "name": "ipython",
    "version": 3
   },
   "file_extension": ".py",
   "mimetype": "text/x-python",
   "name": "python",
   "nbconvert_exporter": "python",
   "pygments_lexer": "ipython3",
   "version": "3.13.0"
  }
 },
 "nbformat": 4,
 "nbformat_minor": 5
}
