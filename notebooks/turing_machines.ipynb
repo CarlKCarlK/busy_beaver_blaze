{
 "cells": [
  {
   "cell_type": "code",
   "execution_count": 2,
   "id": "adb74832",
   "metadata": {},
   "outputs": [
    {
     "name": "stdout",
     "output_type": "stream",
     "text": [
      "Using busy_beaver_blaze from c:\\Users\\carlk\\programs\\busy_beaver_blaze\n"
     ]
    }
   ],
   "source": [
    "import sys\n",
    "from pathlib import Path\n",
    "\n",
    "def _find_project_root() -> Path:\n",
    "    search_paths = [Path.cwd(), *Path.cwd().parents]\n",
    "    for candidate in search_paths:\n",
    "        if (candidate / \"busy_beaver_blaze\").is_dir() and (candidate / \"pyproject.toml\").exists():\n",
    "            return candidate\n",
    "    raise RuntimeError(\"Unable to locate project root for busy_beaver_blaze\")\n",
    "\n",
    "PROJECT_ROOT = _find_project_root()\n",
    "if str(PROJECT_ROOT) not in sys.path:\n",
    "    sys.path.insert(0, str(PROJECT_ROOT))\n",
    "\n",
    "print(f\"Using busy_beaver_blaze from {PROJECT_ROOT}\")\n"
   ]
  },
  {
   "cell_type": "code",
   "execution_count": 3,
   "id": "b83e8c1b",
   "metadata": {},
   "outputs": [
    {
     "name": "stdout",
     "output_type": "stream",
     "text": [
      "Created a machine with 5 states\n",
      "Machine ran for a total: 23,554,764 steps including initial state)\n",
      "Number of ones on tape: 4,097\n"
     ]
    }
   ],
   "source": [
    "import itertools\n",
    "from busy_beaver_blaze import Machine\n",
    "\n",
    "machine = Machine(\"1RB0LD_1LC1RD_1LA1LC_1RZ1RE_1RA0RB\")\n",
    "step_limit = 100_000_000\n",
    "\n",
    "print(f\"Created a machine with {machine.program.state_count} states\")\n",
    "\n",
    "# Step 0 is the initial state, so we can run one less than the limit\n",
    "steps_run = 1 + sum(1 for _ in itertools.islice(machine, step_limit - 1))\n",
    "\n",
    "print(f\"Machine ran for a total: {steps_run:,} steps including initial state)\")\n",
    "print(f\"Number of ones on tape: {machine.count_ones():,}\")"
   ]
  },
  {
   "cell_type": "code",
   "execution_count": 7,
   "id": "701aa916",
   "metadata": {},
   "outputs": [
    {
     "name": "stdout",
     "output_type": "stream",
     "text": [
      "Rust helper ran for a total: 23,554,764 steps including initial state\n",
      "Number of ones on tape (Rust helper): 4,097\n",
      "Python-only helper ran for a total: 23,554,764 steps including initial state\n",
      "Number of ones on tape (Python helper): 4,097\n"
     ]
    }
   ],
   "source": [
    "from busy_beaver_blaze import run_machine_steps\n",
    "\n",
    "rust_steps, rust_nonzeros = run_machine_steps(\n",
    "    \"1RB0LD_1LC1RD_1LA1LC_1RZ1RE_1RA0RB\",\n",
    "    step_limit,\n",
    ")\n",
    "\n",
    "print(f\"Rust helper ran for a total: {rust_steps + 1:,} steps including initial state\")\n",
    "print(f\"Number of ones on tape (Rust helper): {rust_nonzeros:,}\")\n",
    "\n",
    "python_steps, python_nonzeros = run_machine_steps(\n",
    "    \"1RB0LD_1LC1RD_1LA1LC_1RZ1RE_1RA0RB\",\n",
    "    step_limit,\n",
    "    force_python_only=True,\n",
    ")\n",
    "\n",
    "print(f\"Python-only helper ran for a total: {python_steps + 1:,} steps including initial state\")\n",
    "print(f\"Number of ones on tape (Python helper): {python_nonzeros:,}\")\n",
    "\n",
    "assert rust_steps + 1 == steps_run\n",
    "assert rust_nonzeros == machine.count_ones()\n",
    "assert python_steps == rust_steps\n",
    "assert python_nonzeros == rust_nonzeros\n"
   ]
  },
  {
   "cell_type": "code",
   "execution_count": null,
   "id": "9e31b1fe",
   "metadata": {},
   "outputs": [],
   "source": []
  }
 ],
 "metadata": {
  "kernelspec": {
   "display_name": ".venv (3.13.0)",
   "language": "python",
   "name": "python3"
  },
  "language_info": {
   "codemirror_mode": {
    "name": "ipython",
    "version": 3
   },
   "file_extension": ".py",
   "mimetype": "text/x-python",
   "name": "python",
   "nbconvert_exporter": "python",
   "pygments_lexer": "ipython3",
   "version": "3.13.0"
  }
 },
 "nbformat": 4,
 "nbformat_minor": 5
}
